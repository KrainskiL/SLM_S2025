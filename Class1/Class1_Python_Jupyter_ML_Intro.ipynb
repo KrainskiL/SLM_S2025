{
 "cells": [
  {
   "cell_type": "markdown",
   "metadata": {},
   "source": [
    "# Intro to Python and Jupyter"
   ]
  },
  {
   "cell_type": "markdown",
   "metadata": {},
   "source": [
    "## 1. Quick Jupyter Notebook guide"
   ]
  },
  {
   "cell_type": "markdown",
   "metadata": {},
   "source": [
    "Use **Arrow keys** to move up and down\n",
    "***"
   ]
  },
  {
   "cell_type": "markdown",
   "metadata": {},
   "source": [
    "Use **Enter** to activate cell and **ESC** to deactivate it\n",
    "***"
   ]
  },
  {
   "cell_type": "markdown",
   "metadata": {
    "raw_mimetype": "text/latex"
   },
   "source": [
    "Use **CTRL+Enter** to execute cell (interpret Markdown or Python code)\n",
    "***"
   ]
  },
  {
   "cell_type": "markdown",
   "metadata": {},
   "source": [
    "While cell is deactivated (you are in Command mode) use **M** to turn cell into Markdown or **Y** to switch to Python\n",
    "___"
   ]
  },
  {
   "cell_type": "markdown",
   "metadata": {},
   "source": [
    "**a** adds cell above and **b** adds cell below (**ALT+Enter** execute and insert below)\n",
    "___"
   ]
  },
  {
   "cell_type": "markdown",
   "metadata": {},
   "source": [
    "Delete cell using **dd**\n",
    "___"
   ]
  },
  {
   "cell_type": "markdown",
   "metadata": {},
   "source": [
    "More shortcuts will pop up after pressing **H** (or **CTRL+SHIFT+H**)"
   ]
  },
  {
   "cell_type": "markdown",
   "metadata": {},
   "source": [
    "---"
   ]
  },
  {
   "cell_type": "markdown",
   "metadata": {},
   "source": [
    "Interactive command palette - **CTRL+SHIFT+C**"
   ]
  },
  {
   "cell_type": "markdown",
   "metadata": {},
   "source": [
    "## 2. Markdown guide"
   ]
  },
  {
   "cell_type": "markdown",
   "metadata": {},
   "source": [
    "[Markdown Cheatsheet](https://github.com/adam-p/markdown-here/wiki/Markdown-Cheatsheet)"
   ]
  },
  {
   "cell_type": "markdown",
   "metadata": {},
   "source": [
    "## 3. Python intro"
   ]
  },
  {
   "cell_type": "markdown",
   "metadata": {},
   "source": [
    "### 3.1. IPython"
   ]
  },
  {
   "cell_type": "markdown",
   "metadata": {},
   "source": [
    "**Getting help**"
   ]
  },
  {
   "cell_type": "code",
   "execution_count": null,
   "metadata": {},
   "outputs": [],
   "source": [
    "help(len)"
   ]
  },
  {
   "cell_type": "code",
   "execution_count": null,
   "metadata": {},
   "outputs": [],
   "source": [
    "len.__doc__"
   ]
  },
  {
   "cell_type": "code",
   "execution_count": null,
   "metadata": {},
   "outputs": [],
   "source": [
    "#IPython extended help function\n",
    "?len"
   ]
  },
  {
   "cell_type": "code",
   "execution_count": null,
   "metadata": {},
   "outputs": [],
   "source": [
    "def square(a):\n",
    "    \"\"\"Return the square of a.\"\"\"\n",
    "    return a**2"
   ]
  },
  {
   "cell_type": "code",
   "execution_count": null,
   "metadata": {},
   "outputs": [],
   "source": [
    "#Access source code\n",
    "square??"
   ]
  },
  {
   "cell_type": "markdown",
   "metadata": {},
   "source": [
    "**Magic functions**"
   ]
  },
  {
   "cell_type": "code",
   "execution_count": null,
   "metadata": {},
   "outputs": [],
   "source": [
    "#Measure average exec time\n",
    "%timeit L = [n ** 2 for n in range(1000)]"
   ]
  },
  {
   "cell_type": "code",
   "execution_count": null,
   "metadata": {},
   "outputs": [],
   "source": [
    "#Help on magic functions\n",
    "%magic"
   ]
  },
  {
   "cell_type": "code",
   "execution_count": null,
   "metadata": {},
   "outputs": [],
   "source": [
    "%%latex\n",
    "$$x_i=\\sum^N_{i=1}{e^i}$$"
   ]
  },
  {
   "cell_type": "markdown",
   "metadata": {},
   "source": [
    "**Shell functions**"
   ]
  },
  {
   "cell_type": "code",
   "execution_count": null,
   "metadata": {},
   "outputs": [],
   "source": [
    "%pwd"
   ]
  },
  {
   "cell_type": "code",
   "execution_count": null,
   "metadata": {},
   "outputs": [],
   "source": [
    "# %cd - change directory\n",
    "# %ls - list\n",
    "# %cp - copy e.g. cp file1.csv folder/.\n",
    "# %mkdir - make directory e.g. mkdir results\n",
    "# %rm - remove file (or directory) e.g. rm python.py, rm -r folder"
   ]
  },
  {
   "cell_type": "code",
   "execution_count": null,
   "metadata": {},
   "outputs": [],
   "source": [
    "!git"
   ]
  },
  {
   "cell_type": "code",
   "execution_count": null,
   "metadata": {},
   "outputs": [],
   "source": [
    "!curl --help"
   ]
  },
  {
   "cell_type": "markdown",
   "metadata": {},
   "source": [
    "### 3.2. ML in Python"
   ]
  },
  {
   "cell_type": "markdown",
   "metadata": {},
   "source": [
    "#### Python resources\n",
    "Official tutorial\n",
    "\n",
    "https://docs.python.org/3/tutorial/\n",
    "\n",
    "'Think' Series by Allen B. Downey\n",
    "\n",
    "https://greenteapress.com/wp/think-python-2e/\n",
    "\n",
    "\n",
    "Free programming books on GoalKicker:\n",
    "\n",
    "https://goalkicker.com/PythonBook/\n",
    "\n",
    "Online courses: Datacamp, Coursera, CodeAcademy"
   ]
  },
  {
   "cell_type": "markdown",
   "metadata": {},
   "source": [
    "**Data Science and ML in Python**\n",
    "\n",
    "Scikit-learn documentation\n",
    "\n",
    "https://scikit-learn.org/stable/\n",
    "\n",
    "Seaborn documentation\n",
    "\n",
    "https://seaborn.pydata.org/\n",
    "\n",
    "Python Data Science Handbook\n",
    "\n",
    "https://jakevdp.github.io/PythonDataScienceHandbook/\n",
    "\n",
    "Medium platform blogs (e.g. Towards Data Science)"
   ]
  },
  {
   "cell_type": "markdown",
   "metadata": {},
   "source": [
    "**Modules for Data Science in Python**\n",
    "\n",
    "**Numpy** - provides numerical data structures and required utilities (linear algebra tool) https://numpy.org/\n",
    "\n",
    "**Pandas** - Python DataFrames + reading/writing datasets https://pandas.pydata.org/\n",
    "\n",
    "**Matplotlib/Seaborn** - plotting, data visualization https://matplotlib.org/\n",
    "\n",
    "**Scikit-learn** - ML models, evaluation metrics, preprocessing"
   ]
  },
  {
   "cell_type": "markdown",
   "metadata": {},
   "source": [
    "**'Production' ML project lifecycle (from \"ML Engineering\" by Andriy Burkov)**\n",
    "![](./ML_Project_Cycle.PNG)"
   ]
  },
  {
   "cell_type": "markdown",
   "metadata": {},
   "source": [
    "## Overfitting and dataset splits"
   ]
  },
  {
   "cell_type": "markdown",
   "metadata": {},
   "source": [
    "Splitting data into training and validation set is done to avoid overfitting and to assess performance in more realistic situation (model will predict outcome on data it has never seen before).\n",
    "\n",
    "[Related to Bias vs. Variance Tradeoff (Underfitting vs. Overfitting)](https://jakevdp.github.io/PythonDataScienceHandbook/05.03-hyperparameters-and-model-validation.html#The-Bias-variance-trade-off)\n",
    "\n",
    "![](https://jakevdp.github.io/PythonDataScienceHandbook/figures/05.03-validation-curve.png)"
   ]
  },
  {
   "cell_type": "code",
   "execution_count": null,
   "metadata": {
    "scrolled": true
   },
   "outputs": [],
   "source": [
    "%pip install numpy matplotlib scikit-learn --upgrade"
   ]
  },
  {
   "cell_type": "code",
   "execution_count": null,
   "metadata": {},
   "outputs": [],
   "source": [
    "import numpy as np\n",
    "import matplotlib.pyplot as plt\n",
    "import random\n",
    "from sklearn.preprocessing import PolynomialFeatures\n",
    "from sklearn.linear_model import LinearRegression\n",
    "from sklearn.pipeline import make_pipeline, Pipeline"
   ]
  },
  {
   "cell_type": "code",
   "execution_count": null,
   "metadata": {},
   "outputs": [],
   "source": [
    "def PolynomialReg(X: np.array, y: np.array, degree: int=2) -> Pipeline:\n",
    "    return make_pipeline(PolynomialFeatures(degree), LinearRegression()).fit(\n",
    "        X.reshape(-1, 1), y\n",
    "    )"
   ]
  },
  {
   "cell_type": "code",
   "execution_count": null,
   "metadata": {},
   "outputs": [],
   "source": [
    "def true_process_with_noise(x: np.array, seed: int = 123) -> float:\n",
    "    np.random.seed(seed)\n",
    "    return 2 * np.log(x) + 0.4 * np.random.normal(size=x.size) + 2"
   ]
  },
  {
   "cell_type": "code",
   "execution_count": null,
   "metadata": {},
   "outputs": [],
   "source": [
    "n = 40\n",
    "random.seed(24)\n",
    "test = random.sample(range(n), int(n * 0.2))\n",
    "mask = np.ones(n, bool)\n",
    "mask[test] = False"
   ]
  },
  {
   "cell_type": "code",
   "execution_count": null,
   "metadata": {},
   "outputs": [],
   "source": [
    "x = np.linspace(2, 10, n)\n",
    "random.seed(42)\n",
    "y = true_process_with_noise(x)\n",
    "X_train = x[mask]\n",
    "y_train = y[mask]\n",
    "X_test = x[~mask]\n",
    "y_test = y[~mask]"
   ]
  },
  {
   "cell_type": "code",
   "execution_count": null,
   "metadata": {},
   "outputs": [],
   "source": [
    "plt.plot(X_train, y_train, \"o\")\n",
    "plt.plot(X_test, y_test, \"go\");"
   ]
  },
  {
   "cell_type": "code",
   "execution_count": null,
   "metadata": {},
   "outputs": [],
   "source": [
    "# Train polynomial regression with degree 1 and 20\n",
    "model1 = PolynomialReg(X_train, y_train, 1)\n",
    "model20 = PolynomialReg(X_train, y_train, 20)\n",
    "# Predict values on train and test data\n",
    "pred_train1 = model1.predict(X_train.reshape(-1, 1))\n",
    "pred_train20 = model20.predict(X_train.reshape(-1, 1))\n",
    "pred_test1 = model1.predict(X_test.reshape(-1, 1))\n",
    "pred_test20 = model20.predict(X_test.reshape(-1, 1))"
   ]
  },
  {
   "cell_type": "code",
   "execution_count": null,
   "metadata": {},
   "outputs": [],
   "source": [
    "# Training data\n",
    "fig, ax = plt.subplots(1, 2, figsize=(16, 4))\n",
    "ax[0].plot(X_train, y_train, \"o\")\n",
    "ax[0].plot(X_train, pred_train1)\n",
    "ax[0].set_title(\"Degree 1\")\n",
    "ax[1].plot(X_train, y_train, \"o\")\n",
    "ax[1].plot(X_train, pred_train20)\n",
    "ax[1].set_title(\"Degree 20\");"
   ]
  },
  {
   "cell_type": "code",
   "execution_count": null,
   "metadata": {},
   "outputs": [],
   "source": [
    "# Test data\n",
    "fig, ax = plt.subplots(1, 2, figsize=(16, 4))\n",
    "ax[0].plot(X_test, y_test, \"o\")\n",
    "ax[0].plot(X_test, pred_test1)\n",
    "ax[0].plot(X_test, [np.mean(y_test)] * X_test.size, \"k--\")\n",
    "ax[0].set_title(\"Degree 1\")\n",
    "ax[1].plot(X_test, y_test, \"o\")\n",
    "ax[1].plot(X_test, [np.mean(y_test)] * X_test.size, \"k--\")\n",
    "ax[1].plot(X_test, pred_test20)\n",
    "ax[1].set_title(\"Degree 20\");"
   ]
  },
  {
   "cell_type": "code",
   "execution_count": null,
   "metadata": {},
   "outputs": [],
   "source": [
    "def R_squared(y_pred, y_true):\n",
    "    y_mean = np.mean(y_true)\n",
    "    ssres = (y_true - y_pred) ** 2\n",
    "    sstot = (y_true - y_mean) ** 2\n",
    "    r_square = 1 - (sum(ssres) / sum(sstot))\n",
    "    return str(round(r_square * 100, 1)) + \"%\""
   ]
  },
  {
   "cell_type": "code",
   "execution_count": null,
   "metadata": {},
   "outputs": [],
   "source": [
    "print(\"R^2 degree 1 on training data:\", R_squared(pred_train1, y_train))\n",
    "print(\"R^2 degree 20 on training data:\", R_squared(pred_train20, y_train))\n",
    "print(\"R^2 degree 1 on test data:\", R_squared(pred_test1, y_test))\n",
    "print(\"R^2 degree 20 on test data:\", R_squared(pred_test20, y_test))"
   ]
  },
  {
   "cell_type": "markdown",
   "metadata": {},
   "source": [
    "Handling overfitting:\n",
    "- Gather more records (rows)\n",
    "- Gather/produce more features (columns)\n",
    "- Use less powerful/elastic/flexible model\n",
    "- Use special data preparation or training techniques (balancing data, cross-validation)\n",
    "- **Use regularization techniques**"
   ]
  }
 ],
 "metadata": {
  "celltoolbar": "Raw Cell Format",
  "kernelspec": {
   "display_name": "Python 3 (ipykernel)",
   "language": "python",
   "name": "python3"
  },
  "language_info": {
   "codemirror_mode": {
    "name": "ipython",
    "version": 3
   },
   "file_extension": ".py",
   "mimetype": "text/x-python",
   "name": "python",
   "nbconvert_exporter": "python",
   "pygments_lexer": "ipython3",
   "version": "3.13.1"
  }
 },
 "nbformat": 4,
 "nbformat_minor": 4
}
